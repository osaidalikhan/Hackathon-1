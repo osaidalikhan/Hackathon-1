{
 "cells": [
  {
   "cell_type": "code",
   "execution_count": 29,
   "id": "d54aa971-e6a8-4f5a-a06b-f3970bf64376",
   "metadata": {},
   "outputs": [
    {
     "name": "stdout",
     "output_type": "stream",
     "text": [
      "Press 1 if you are a user.\n",
      "Press 2 if you are an admin.\n",
      "Press 0 if you want to exit.\n"
     ]
    },
    {
     "name": "stdin",
     "output_type": "stream",
     "text": [
      "Enter your choice: 1\n"
     ]
    },
    {
     "name": "stdout",
     "output_type": "stream",
     "text": [
      "Press 1 if you want to Create Account.\n",
      "Press 2 if you want to Deposit Money in your Account.\n",
      "Press 3 if you want to withdraw Money from your Account.\n",
      "Press 4 if you want to check Balance.\n",
      "Press 5 if you want to see Transactions.\n",
      "Press 0 to Exit\n"
     ]
    },
    {
     "name": "stdin",
     "output_type": "stream",
     "text": [
      "Enter your choice: 1\n",
      "Enter account holder name: osaid\n"
     ]
    },
    {
     "name": "stdout",
     "output_type": "stream",
     "text": [
      "Account for OSAID with account number PK01 created with balance $0.0.\n",
      "Press 1 if you are a user.\n",
      "Press 2 if you are an admin.\n",
      "Press 0 if you want to exit.\n"
     ]
    },
    {
     "name": "stdin",
     "output_type": "stream",
     "text": [
      "Enter your choice: 1\n"
     ]
    },
    {
     "name": "stdout",
     "output_type": "stream",
     "text": [
      "Press 1 if you want to Create Account.\n",
      "Press 2 if you want to Deposit Money in your Account.\n",
      "Press 3 if you want to withdraw Money from your Account.\n",
      "Press 4 if you want to check Balance.\n",
      "Press 5 if you want to see Transactions.\n",
      "Press 0 to Exit\n"
     ]
    },
    {
     "name": "stdin",
     "output_type": "stream",
     "text": [
      "Enter your choice: 1\n",
      "Enter account holder name: ali\n"
     ]
    },
    {
     "name": "stdout",
     "output_type": "stream",
     "text": [
      "Account for ALI with account number PK02 created with balance $0.0.\n",
      "Press 1 if you are a user.\n",
      "Press 2 if you are an admin.\n",
      "Press 0 if you want to exit.\n"
     ]
    },
    {
     "name": "stdin",
     "output_type": "stream",
     "text": [
      "Enter your choice: 1\n"
     ]
    },
    {
     "name": "stdout",
     "output_type": "stream",
     "text": [
      "Press 1 if you want to Create Account.\n",
      "Press 2 if you want to Deposit Money in your Account.\n",
      "Press 3 if you want to withdraw Money from your Account.\n",
      "Press 4 if you want to check Balance.\n",
      "Press 5 if you want to see Transactions.\n",
      "Press 0 to Exit\n"
     ]
    },
    {
     "name": "stdin",
     "output_type": "stream",
     "text": [
      "Enter your choice: 2\n",
      "Enter account number: PK01\n",
      "Enter amount to deposit: 530\n"
     ]
    },
    {
     "name": "stdout",
     "output_type": "stream",
     "text": [
      "Amount $530.0 deposited successfully in account number:PK01.\n",
      "Press 1 if you are a user.\n",
      "Press 2 if you are an admin.\n",
      "Press 0 if you want to exit.\n"
     ]
    },
    {
     "name": "stdin",
     "output_type": "stream",
     "text": [
      "Enter your choice: 1\n"
     ]
    },
    {
     "name": "stdout",
     "output_type": "stream",
     "text": [
      "Press 1 if you want to Create Account.\n",
      "Press 2 if you want to Deposit Money in your Account.\n",
      "Press 3 if you want to withdraw Money from your Account.\n",
      "Press 4 if you want to check Balance.\n",
      "Press 5 if you want to see Transactions.\n",
      "Press 0 to Exit\n"
     ]
    },
    {
     "name": "stdin",
     "output_type": "stream",
     "text": [
      "Enter your choice: 2\n",
      "Enter account number: PK02\n",
      "Enter amount to deposit: 450\n"
     ]
    },
    {
     "name": "stdout",
     "output_type": "stream",
     "text": [
      "Amount $450.0 deposited successfully in account number:PK02.\n",
      "Press 1 if you are a user.\n",
      "Press 2 if you are an admin.\n",
      "Press 0 if you want to exit.\n"
     ]
    },
    {
     "name": "stdin",
     "output_type": "stream",
     "text": [
      "Enter your choice: 2\n"
     ]
    },
    {
     "name": "stdout",
     "output_type": "stream",
     "text": [
      "You are accessing admin operations\n",
      "Press 1 if you want to Transfers money between two accounts.\n",
      "Press 2 if you want to check total balance of all accounts in the bank.\n",
      "Press 3 if you want to check total number of accounts in the bank.\n",
      "Press 0 to Exit\n"
     ]
    },
    {
     "name": "stdin",
     "output_type": "stream",
     "text": [
      "Enter your choice: 1\n",
      "Enter sender account number: PK01\n",
      "Enter receiver account number: PK02\n",
      "Enter amount to transfer: 30\n"
     ]
    },
    {
     "name": "stdout",
     "output_type": "stream",
     "text": [
      "Amount $30.0 transferred successfully from account number PK01 to account number PK02.\n",
      "Press 1 if you are a user.\n",
      "Press 2 if you are an admin.\n",
      "Press 0 if you want to exit.\n"
     ]
    },
    {
     "name": "stdin",
     "output_type": "stream",
     "text": [
      "Enter your choice: 2\n"
     ]
    },
    {
     "name": "stdout",
     "output_type": "stream",
     "text": [
      "You are accessing admin operations\n",
      "Press 1 if you want to Transfers money between two accounts.\n",
      "Press 2 if you want to check total balance of all accounts in the bank.\n",
      "Press 3 if you want to check total number of accounts in the bank.\n",
      "Press 0 to Exit\n"
     ]
    },
    {
     "name": "stdin",
     "output_type": "stream",
     "text": [
      "Enter your choice: 2\n"
     ]
    },
    {
     "name": "stdout",
     "output_type": "stream",
     "text": [
      "Total deposits in the bank are $980.0.\n",
      "Press 1 if you are a user.\n",
      "Press 2 if you are an admin.\n",
      "Press 0 if you want to exit.\n"
     ]
    },
    {
     "name": "stdin",
     "output_type": "stream",
     "text": [
      "Enter your choice: 0\n"
     ]
    },
    {
     "name": "stdout",
     "output_type": "stream",
     "text": [
      "You have exit the program!\n"
     ]
    }
   ],
   "source": [
    "accounts = {}\n",
    "withdraw = []\n",
    "\n",
    "class BankAccount:\n",
    "    \n",
    "    def deposit(self,account_no,amount):\n",
    "        if account_no not in self.accounts:\n",
    "            print(\"Account not found.\")\n",
    "            return\n",
    "        if amount <= 0:\n",
    "            print(\"Invalid amount. Amount should be greater than 0.\")\n",
    "            return\n",
    "            \n",
    "        self.accounts[account_no][\"balance\"] += amount \n",
    "        self.accounts[account_no][\"transactions\"].append(f\"Deposited ${amount}\") \n",
    "        print(f\"Amount ${amount} deposited successfully in account number:{account_no}.\")\n",
    "        return self.accounts\n",
    "\n",
    "    def withdraw(self,account_no,amount):\n",
    "        if account_no not in self.accounts: \n",
    "            print(\"Account not found.\")\n",
    "            return\n",
    "        if amount <= 0:\n",
    "            print(\"Invalid amount. Amount should be greater than 0.\")\n",
    "            return\n",
    "        if amount > self.accounts[account_no][\"balance\"]:\n",
    "            print(\"Insufficient balance.\")\n",
    "            return\n",
    "            \n",
    "        self.accounts[account_no][\"balance\"] -= amount \n",
    "        \n",
    "        withdraw.append(amount) # creating new list for total amount deposits record \n",
    "        self.accounts[account_no][\"transactions\"].append(f\"Withdrew ${amount}\") #maintaing record \n",
    "        print(f\"Amount ${amount} withdrawn successfully from account number:{account_no}.\")\n",
    "        return self.accounts,withdraw\n",
    "    \n",
    "    def checkBalance(self,account_no):\n",
    "        if account_no not in self.accounts:\n",
    "            print(\"Account not found.\")\n",
    "            return\n",
    "        print(f\"Current balance of account number {account_no} is ${self.accounts[account_no]['balance']}.\")\n",
    "        return self.accounts\n",
    "\n",
    "    def transactionsStatements(self,account_no):\n",
    "        if account_no not in self.accounts:\n",
    "            print(\"Account not found.\")\n",
    "            return\n",
    "        print(f\"Transactions of account number {account_no}:\")\n",
    "        for transaction in self.accounts[account_no][\"transactions\"]: # printing transactions \n",
    "            print(transaction)\n",
    "        return self.accounts\n",
    " \n",
    "\n",
    "\n",
    "class Bank(BankAccount):           #inheritance\n",
    "    \n",
    "    current_id = 0\n",
    "    def __init__(self):\n",
    "        self.accounts = {}\n",
    "\n",
    "    def genrateAccountNo(self):\n",
    "        pakno = \"PK\"\n",
    "        res_num = str(self.current_id + 1).zfill(2)       \n",
    "        Bank.current_id = Bank.current_id + 1          # increasing in current id for different account no \n",
    "        return pakno + res_num\n",
    "    \n",
    "    def createAccount(self,account_name):\n",
    "        if not account_name.isalpha(): \n",
    "            print(\"Invalid name. Only alphabets are allowed.\")\n",
    "            return\n",
    "        \n",
    "       \n",
    "        account_no = self.genrateAccountNo()\n",
    "        account_details = { \n",
    "        # making dictionary to save accounts details\n",
    "        \"name\": account_name,\n",
    "        \"balance\": 0.0,\n",
    "        \"transactions\": []\n",
    "        }\n",
    "        self.accounts[account_no] = account_details\n",
    "        print(f\"Account for {account_details['name']} with account number {account_no} created with balance $0.0.\")\n",
    "        return self.accounts\n",
    "\n",
    "    def get_account(self,account_no):\n",
    "        if account_number not in self.accounts:\n",
    "            print(\"Account not found.\")\n",
    "            return\n",
    "        return self.accounts[account_no]              # returning account by acc_no\n",
    "    \n",
    "    def transfer(self,sender_account_number, receiver_account_number, amount):\n",
    "        if sender_account_number not in self.accounts or receiver_account_number not in self.accounts:\n",
    "            print(\"Account not found.\")\n",
    "            return\n",
    "        if amount <= 0:\n",
    "            print(\"Invalid amount. Amount should be greater than 0.\")\n",
    "            return\n",
    "        if amount > self.accounts[sender_account_number][\"balance\"]:\n",
    "            print(\"Insufficient balance.\")\n",
    "            return\n",
    "            \n",
    "        self.accounts[sender_account_number][\"balance\"] -= amount               # subtracting from sender\n",
    "        self.accounts[receiver_account_number][\"balance\"] += amount             # adding in reciever\n",
    "        self.accounts[sender_account_number][\"transactions\"].append(f\"Transferred ${amount} to {receiver_account_number}\") \n",
    "        self.accounts[receiver_account_number][\"transactions\"].append(f\"Received ${amount} from {sender_account_number}\") \n",
    "        print(f\"Amount ${amount} transferred successfully from account number {sender_account_number} to account number {receiver_account_number}.\")\n",
    "        return self.accounts\n",
    "    \n",
    "    def  admin_check_total_deposit(self):\n",
    "        total_deposits = 0\n",
    "        for account in self.accounts.values():\n",
    "            total_deposits += account[\"balance\"]\n",
    "            total_deposits += sum(withdraw)                               # using withdraw list calculating total deposit\n",
    "        print(f\"Total deposits in the bank are ${total_deposits}.\")\n",
    "        return total_deposits\n",
    "    \n",
    "    def admin_check_total_accounts(self):\n",
    "        if(len(self.accounts) == 0):\n",
    "            print(\"No accounts found.\")\n",
    "            return\n",
    "        # returning accounts length\n",
    "        \n",
    "        elif (len(self.accounts) == 1):\n",
    "            print(f\"Total number of accounts in the bank is {len(self.accounts)}.\")\n",
    "            return len(self.accounts)\n",
    "        print(f\"Total number of accounts in the bank are {len(self.accounts)}.\")\n",
    "        return len(self.accounts)\n",
    "\n",
    "\n",
    "\n",
    "\n",
    "acc = Bank()\n",
    "while True:\n",
    "    print(\"Press 1 if you are a user.\")\n",
    "    print(\"Press 2 if you are an admin.\")\n",
    "    print(\"Press 0 if you want to exit.\")\n",
    "    choice = int(input(\"Enter your choice:\")) \n",
    "\n",
    "    if choice == 1:\n",
    "    \n",
    "        print(\"Press 1 if you want to Create Account.\")\n",
    "        print(\"Press 2 if you want to Deposit Money in your Account.\")\n",
    "        print(\"Press 3 if you want to withdraw Money from your Account.\")\n",
    "        print(\"Press 4 if you want to check Balance.\")\n",
    "        print(\"Press 5 if you want to see Transactions.\")\n",
    "        print(\"Press 0 to Exit\")\n",
    "        \n",
    "        number = int(input(\"Enter your choice:\"))\n",
    "        \n",
    "        if number == 1:\n",
    "            account_name = input(\"Enter account holder name:\").upper()\n",
    "            acc.createAccount(account_name)\n",
    "        elif number == 2:\n",
    "            account_no = input(\"Enter account number:\")\n",
    "            amount = float(input(\"Enter amount to deposit:\"))\n",
    "            acc.deposit(account_no,amount)\n",
    "        elif number == 3:\n",
    "            account_no = input(\"Enter account number:\")\n",
    "            amount = float(input(\"Enter amount to withdraw:\"))\n",
    "            acc,withdraw = acc.withdraw(account_no,amount)\n",
    "        elif number == 4:\n",
    "            account_no = input(\"Enter account number:\")\n",
    "            acc.checkBalance(account_no)\n",
    "        elif number == 5:\n",
    "            account_no = input(\"Enter account number:\")\n",
    "            acc.transactionsStatements(account_no)       \n",
    "        elif number == 0:\n",
    "            print(\"You have exit the program!\")\n",
    "            break\n",
    "        else:\n",
    "            print(\"Invalid Choice\")\n",
    "\n",
    "    elif choice == 0:\n",
    "        print(\"You have exit the program!\")\n",
    "        break\n",
    "    else:\n",
    "        print(\"You are accessing admin operations\")\n",
    "        \n",
    "        print(\"Press 1 if you want to Transfers money between two accounts.\")\n",
    "        print(\"Press 2 if you want to check total balance of all accounts in the bank.\")\n",
    "        print(\"Press 3 if you want to check total number of accounts in the bank.\")\n",
    "        print(\"Press 0 to Exit\")\n",
    "        \n",
    "        number = int(input(\"Enter your choice:\"))\n",
    "\n",
    "        if number == 1:\n",
    "            sender_account_number = input(\"Enter sender account number:\")\n",
    "            receiver_account_number = input(\"Enter receiver account number:\")\n",
    "            amount = float(input(\"Enter amount to transfer:\"))\n",
    "            acc.transfer(sender_account_number,receiver_account_number,amount)\n",
    "        elif number == 2:\n",
    "            acc.admin_check_total_deposit()\n",
    "        elif choice == 3:\n",
    "            acc.admin_check_total_accounts()\n",
    "        elif choice == 0:\n",
    "            break\n",
    "        else:\n",
    "            print(\"Invalid Choice\")"
   ]
  }
 ],
 "metadata": {
  "kernelspec": {
   "display_name": "Python 3 (ipykernel)",
   "language": "python",
   "name": "python3"
  },
  "language_info": {
   "codemirror_mode": {
    "name": "ipython",
    "version": 3
   },
   "file_extension": ".py",
   "mimetype": "text/x-python",
   "name": "python",
   "nbconvert_exporter": "python",
   "pygments_lexer": "ipython3",
   "version": "3.12.7"
  }
 },
 "nbformat": 4,
 "nbformat_minor": 5
}
