{
 "cells": [
  {
   "cell_type": "code",
   "execution_count": 23,
   "id": "c0ac98b8-bd34-4f3e-9245-3ecbb7a98902",
   "metadata": {},
   "outputs": [
    {
     "name": "stdout",
     "output_type": "stream",
     "text": [
      "Press 1 if you are a user.\n",
      "Press 2 if you are an admin.\n",
      "Press 0 if you want to exit.\n"
     ]
    },
    {
     "name": "stdin",
     "output_type": "stream",
     "text": [
      "Enter your choice: 1\n"
     ]
    },
    {
     "name": "stdout",
     "output_type": "stream",
     "text": [
      "Press 1 if you want to Create Account.\n",
      "Press 2 if you want to Deposit Money in your Account.\n",
      "Press 3 if you want to withdraw Money from your Account.\n",
      "Press 4 if you want to check Balance.\n",
      "Press 5 if you want to see Transactions.\n",
      "Press 0 to Exit\n"
     ]
    },
    {
     "name": "stdin",
     "output_type": "stream",
     "text": [
      "Enter your choice: 1\n",
      "Enter your name: osaid\n"
     ]
    },
    {
     "name": "stdout",
     "output_type": "stream",
     "text": [
      "Account for OSAID with Account No PK01 created with Balance $0.0.\n",
      "Press 1 if you are a user.\n",
      "Press 2 if you are an admin.\n",
      "Press 0 if you want to exit.\n"
     ]
    },
    {
     "name": "stdin",
     "output_type": "stream",
     "text": [
      "Enter your choice: 1\n"
     ]
    },
    {
     "name": "stdout",
     "output_type": "stream",
     "text": [
      "Press 1 if you want to Create Account.\n",
      "Press 2 if you want to Deposit Money in your Account.\n",
      "Press 3 if you want to withdraw Money from your Account.\n",
      "Press 4 if you want to check Balance.\n",
      "Press 5 if you want to see Transactions.\n",
      "Press 0 to Exit\n"
     ]
    },
    {
     "name": "stdin",
     "output_type": "stream",
     "text": [
      "Enter your choice: 2\n",
      "Enter your account number: PK01\n",
      "enter the amount you want to deposit: 530\n"
     ]
    },
    {
     "name": "stdout",
     "output_type": "stream",
     "text": [
      "Amount Deposit: $530.0\n",
      "Updated balance: $530.0\n",
      "Press 1 if you are a user.\n",
      "Press 2 if you are an admin.\n",
      "Press 0 if you want to exit.\n"
     ]
    },
    {
     "name": "stdin",
     "output_type": "stream",
     "text": [
      "Enter your choice: 1\n"
     ]
    },
    {
     "name": "stdout",
     "output_type": "stream",
     "text": [
      "Press 1 if you want to Create Account.\n",
      "Press 2 if you want to Deposit Money in your Account.\n",
      "Press 3 if you want to withdraw Money from your Account.\n",
      "Press 4 if you want to check Balance.\n",
      "Press 5 if you want to see Transactions.\n",
      "Press 0 to Exit\n"
     ]
    },
    {
     "name": "stdin",
     "output_type": "stream",
     "text": [
      "Enter your choice: 3\n",
      "Enter your account number: PK01\n",
      "enter the amount you want to withdraw: 30\n"
     ]
    },
    {
     "name": "stdout",
     "output_type": "stream",
     "text": [
      "Amount withdrawn: $30.0\n",
      "Updated balance: $500.0\n",
      "Press 1 if you are a user.\n",
      "Press 2 if you are an admin.\n",
      "Press 0 if you want to exit.\n"
     ]
    },
    {
     "name": "stdin",
     "output_type": "stream",
     "text": [
      "Enter your choice: 1\n"
     ]
    },
    {
     "name": "stdout",
     "output_type": "stream",
     "text": [
      "Press 1 if you want to Create Account.\n",
      "Press 2 if you want to Deposit Money in your Account.\n",
      "Press 3 if you want to withdraw Money from your Account.\n",
      "Press 4 if you want to check Balance.\n",
      "Press 5 if you want to see Transactions.\n",
      "Press 0 to Exit\n"
     ]
    },
    {
     "name": "stdin",
     "output_type": "stream",
     "text": [
      "Enter your choice: 5\n",
      "Enter your account number: PK01\n"
     ]
    },
    {
     "name": "stdout",
     "output_type": "stream",
     "text": [
      "Transactions for Account No PK01 are:\n",
      "Deposit: $530.0\n",
      "Withdrawn: $30.0\n",
      "Press 1 if you are a user.\n",
      "Press 2 if you are an admin.\n",
      "Press 0 if you want to exit.\n"
     ]
    },
    {
     "name": "stdin",
     "output_type": "stream",
     "text": [
      "Enter your choice: 2\n"
     ]
    },
    {
     "name": "stdout",
     "output_type": "stream",
     "text": [
      "You are accessing admin operations\n",
      "Press 1 if you want to Creates a new account for the specified account holder.\n",
      "Press 2 if you want to  Retrieves an account object using its account number.\n",
      "Press 3 if you want to Transfers money between two accounts.\n",
      "Press 4 if you want to check total balance of all accounts in the bank.\n",
      "Press 5 if you want to check total number of accounts in the bank.\n",
      "Press 0 to Exit\n"
     ]
    },
    {
     "name": "stdin",
     "output_type": "stream",
     "text": [
      "Enter your choice: 5\n"
     ]
    },
    {
     "name": "stdout",
     "output_type": "stream",
     "text": [
      "The Total Accounts are : 1\n",
      "Press 1 if you are a user.\n",
      "Press 2 if you are an admin.\n",
      "Press 0 if you want to exit.\n"
     ]
    },
    {
     "name": "stdin",
     "output_type": "stream",
     "text": [
      "Enter your choice: 0\n"
     ]
    },
    {
     "name": "stdout",
     "output_type": "stream",
     "text": [
      "You have exit the program!\n"
     ]
    }
   ],
   "source": [
    "while True:\n",
    "    print(\"Press 1 if you are a user.\")\n",
    "    print(\"Press 2 if you are an admin.\")\n",
    "    print(\"Press 0 if you want to exit.\")\n",
    "    choice = int(input(\"Enter your choice:\")) \n",
    "\n",
    "    if choice == 1:\n",
    "    \n",
    "        print(\"Press 1 if you want to Create Account.\")\n",
    "        print(\"Press 2 if you want to Deposit Money in your Account.\")\n",
    "        print(\"Press 3 if you want to withdraw Money from your Account.\")\n",
    "        print(\"Press 4 if you want to check Balance.\")\n",
    "        print(\"Press 5 if you want to see Transactions.\")\n",
    "        print(\"Press 0 to Exit\")\n",
    "        \n",
    "        number = int(input(\"Enter your choice:\"))\n",
    "        \n",
    "        if number == 1:\n",
    "            name = str(input(\"Enter your name:\")).upper()\n",
    "            if not name.isalpha():  #to check name only contain alphabets\n",
    "                print(\"Invalid name. Only alphabets are allowed.\")  \n",
    "            else:\n",
    "                createAccount(name,accounts,current_id)    \n",
    "        elif number == 2:\n",
    "            account_no = input(\"Enter your account number:\")\n",
    "            depositMoney(account_no)        \n",
    "        elif number == 3:\n",
    "            account_no = input(\"Enter your account number:\")\n",
    "            withdrawMoney(account_no)        \n",
    "        elif number == 4:\n",
    "            account_no = input(\"Enter your account number:\")\n",
    "            checkBalance(account_no)        \n",
    "        elif number == 5:\n",
    "            account_no = input(\"Enter your account number:\")\n",
    "            printTransactions(account_no)        \n",
    "        elif number == 0:\n",
    "            print(\"You have exit the program!\")\n",
    "            break\n",
    "        else:\n",
    "            print(\"Invalid Choice\")\n",
    "\n",
    "    elif choice == 0:\n",
    "        print(\"You have exit the program!\")\n",
    "        break\n",
    "    else:\n",
    "        print(\"You are accessing admin operations\")\n",
    "        \n",
    "        print(\"Press 1 if you want to Creates a new account for the specified account holder.\")\n",
    "        print(\"Press 2 if you want to  Retrieves an account object using its account number.\")\n",
    "        print(\"Press 3 if you want to Transfers money between two accounts.\")\n",
    "        print(\"Press 4 if you want to check total balance of all accounts in the bank.\")\n",
    "        print(\"Press 5 if you want to check total number of accounts in the bank.\")\n",
    "        print(\"Press 0 to Exit\")\n",
    "        \n",
    "        number = int(input(\"Enter your choice:\"))\n",
    "\n",
    "        if number == 1:\n",
    "            createAccount(name,accounts,current_id)     \n",
    "        elif number == 2:\n",
    "            get_account(account_no)\n",
    "        elif number == 3:\n",
    "            transfer(sender_account_number, receiver_account_number, amount)       \n",
    "        elif number == 4:\n",
    "            admin_check_total_deposit(accounts)      \n",
    "        elif number == 5:\n",
    "            admin_check_total_accounts(accounts)      \n",
    "        elif number == 0:\n",
    "            print(\"You have exit the program!\")\n",
    "            break\n",
    "        else:\n",
    "            print(\"Invalid Choice\")\n",
    "        \n",
    "\n",
    "\n",
    "accounts = {}\n",
    "current_id = 0\n",
    "\n",
    "def generateAccountNo(current_id):\n",
    "    prefix = \"PK\"             # start of account \n",
    "    next_number = str(current_id + 1).zfill(2)       \n",
    "    return prefix + next_number\n",
    "\n",
    "\n",
    "def createAccount(name,accounts,current_id):\n",
    "    if not name.isalpha():                  #to check name only contain alphabets\n",
    "        print(\"Invalid name. Only alphabets are allowed.\")\n",
    "        return\n",
    "    \n",
    "    account_no = generateAccountNo(current_id)\n",
    "    \n",
    "    # making dictionary to save accounts details\n",
    "    account_details = {\n",
    "    \"name\": name,\n",
    "    \"balance\": 0.0,\n",
    "    \"transactions\": []\n",
    "    }\n",
    "    \n",
    "    accounts[account_no] = account_details\n",
    "    print(f\"Account for {account_details['name']} with Account No {account_no} created with Balance $0.0.\")\n",
    "\n",
    "\n",
    "def depositMoney(account_no):\n",
    "    if account_no in accounts:      #checking  the account_no is in accounts dict or not\n",
    "        amount = float(input(\"enter the amount you want to deposit:\"))\n",
    "        try: \n",
    "            if amount < 0:\n",
    "                raise ValueError(\"Negative values are not allowed.\")\n",
    "            elif amount == 0:\n",
    "                raise ValueError (\"Zero value is not allowed\")\n",
    "                \n",
    "            accounts[account_no][\"balance\"] += amount\n",
    "            accounts[account_no][\"transactions\"].append(f\"Deposit: ${amount}\")\n",
    "            print(f\"Amount Deposit: ${amount}\")\n",
    "            print(f\"Updated balance: ${accounts[account_no]['balance']}\")\n",
    "            \n",
    "            with open(\"transactions.txt\", \"a\") as f: \n",
    "                f.write(f\"Account No: {account_no}, Transaction: Deposit, Amount: ${amount}, New Balance: ${accounts[account_no]['balance']}\\n\")\n",
    "        except ValueError as e:\n",
    "            print(\"Error:\", e)\n",
    "    else:\n",
    "        print(f\"Acoount No: {account_no} not found!\")\n",
    "\n",
    "def withdrawMoney(account_no):\n",
    "    if account_no in accounts:        #checking the account_no is in accounts dict or not\n",
    "        amount = float(input(\"enter the amount you want to withdraw:\"))\n",
    "        try:\n",
    "            if amount < 0:\n",
    "                raise ValueError(\"Negative values are not allowed.\")\n",
    "            elif amount == 0:\n",
    "                raise ValueError (\"Zero value is not allowed\")\n",
    "                \n",
    "            if amount > accounts[account_no][\"balance\"]:\n",
    "                print(\"Insufficient balance!\")\n",
    "                return\n",
    "\n",
    "            accounts[account_no][\"balance\"] -= amount\n",
    "            accounts[account_no][\"transactions\"].append(f\"Withdrawn: ${amount}\")\n",
    "            print(f\"Amount withdrawn: ${amount}\")\n",
    "            print(f\"Updated balance: ${accounts[account_no]['balance']}\")\n",
    "            \n",
    "        except ValueError as e:\n",
    "            print(\"Error:\", e)\n",
    "    else:\n",
    "        print(f\"Acoount No: {account_no} not found!\")\n",
    "\n",
    "\n",
    "def checkBalance(account_no):\n",
    "    if account_no in accounts:\n",
    "        print(f\"The Current Balance for Account No: {account_no} is ${accounts[account_no]['balance']}\")\n",
    "    else:\n",
    "        print(\"Invalid account no\")\n",
    "\n",
    "\n",
    "def printTransactions(account_no):\n",
    "    if account_no in accounts:\n",
    "        print(f\"Transactions for Account No {account_no} are:\")\n",
    "                            # transactions may be more than one therefore we use for loop\n",
    "        for transaction in accounts[account_no][\"transactions\"]:\n",
    "            print(transaction)\n",
    "    else:\n",
    "        print(f\"Account No: {account_no} not found!\")\n",
    "\n",
    "def open_account(name,accounts,current_id):\n",
    "    if not name.isalpha():                  #to check name only contain alphabets\n",
    "        print(\"Invalid name. Only alphabets are allowed.\")\n",
    "    return\n",
    "    \n",
    "    account_no = generateAccountNo(current_id)\n",
    "    account_details = {\n",
    "    \"name\": name,\n",
    "    \"balance\": 0.0,\n",
    "    \"transactions\": []\n",
    "    }\n",
    "    \n",
    "    accounts[account_no] = account_details\n",
    "    print(f\"Account for {account_details['name']} with Account No {account_no} created with Balance $0.0.\")\n",
    "\n",
    "def get_account(account_no):\n",
    "    account_details = {\n",
    "    \"name\": name,\n",
    "    \"balance\": accounts[account_no],\n",
    "    \"transactions\": []\n",
    "    }\n",
    "    \n",
    "    accounts[account_no] = account_details\n",
    "    print(f\"Account for {account_details['name']} with Account No {account_no} has balance {account_details['balance']}.\")\n",
    "    \n",
    "\n",
    "def admin_check_total_deposit(accounts):\n",
    "    print(f\"The Current Balance for Accounts are : {accounts} are ${accounts['balance']}\")\n",
    "\n",
    "def admin_check_total_accounts(accounts):\n",
    "    print(f\"The Total Accounts are : {len(accounts)}\")\n",
    "\n",
    "def transfer(sender_account_number, receiver_account_number, amount):\n",
    "    if account_no in accounts:      \n",
    "        amount = float(input(\"enter the amount you want to transfer:\"))\n",
    "        try: \n",
    "            if amount < 0:\n",
    "                raise ValueError(\"Negative values are not allowed.\")\n",
    "            elif amount == 0:\n",
    "                raise ValueError (\"Zero value is not allowed\")\n",
    "                \n",
    "            accounts[account_no][\"balance\"] -= amount\n",
    "            accounts[account_no][\"transactions\"].append(f\"Deposit: ${amount}\")\n",
    "            print(f\"Amount Transfer: ${amount}\")\n",
    "            print(f\"Updated balance: ${accounts[account_no]['balance']}\")\n",
    "            \n",
    "        except ValueError as e:\n",
    "            print(\"Error:\", e)\n",
    "    else:\n",
    "        print(f\"Acoount No: {account_no} not found!\")"
   ]
  },
  {
   "cell_type": "code",
   "execution_count": null,
   "id": "673388b2-6c26-4c3c-8320-2fb10cfc7cc7",
   "metadata": {},
   "outputs": [],
   "source": []
  }
 ],
 "metadata": {
  "kernelspec": {
   "display_name": "Python 3 (ipykernel)",
   "language": "python",
   "name": "python3"
  },
  "language_info": {
   "codemirror_mode": {
    "name": "ipython",
    "version": 3
   },
   "file_extension": ".py",
   "mimetype": "text/x-python",
   "name": "python",
   "nbconvert_exporter": "python",
   "pygments_lexer": "ipython3",
   "version": "3.12.7"
  }
 },
 "nbformat": 4,
 "nbformat_minor": 5
}
